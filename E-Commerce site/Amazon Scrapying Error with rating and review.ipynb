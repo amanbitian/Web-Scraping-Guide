{
 "cells": [
  {
   "cell_type": "markdown",
   "id": "ba9998f7",
   "metadata": {},
   "source": [
    "## Automated Web Scraper For Amazon.com\n",
    "\n",
    "In this tutorial we will build an Automated Web Scraper to extract data from amazon.com that we can use for any data analysis,data science or machine learning project.\n",
    "\n",
    "Before we get started let me make it clear that Amazon has a tight security for their platform and some of the things you can easily do on other webpages wont work on Amozon platform.\n",
    "\n",
    "Previously, we could have used Beautiful Soup and Request to easily get titles from the page, but things have changed little bit. We will still use Beautiful Soup but in a different way.\n",
    "\n",
    "Let's see how we can do things differently now.\n",
    "\n",
    "### Installation\n",
    "We will be using:\n",
    "\n",
    "1. Selenium\n",
    "2. BeautifulSoup\n",
    "3. Webdrivers  \n",
    "\n",
    "Uncomment the following cells to run the installation"
   ]
  },
  {
   "cell_type": "code",
   "execution_count": 1,
   "id": "833a3e7f",
   "metadata": {},
   "outputs": [],
   "source": [
    "#!pip install selenium\n",
    "#!pip install msedge-selenium-tools\n",
    "#!pip install bs4"
   ]
  },
  {
   "cell_type": "code",
   "execution_count": 2,
   "id": "c3381560",
   "metadata": {},
   "outputs": [],
   "source": [
    "# For Chrome \n",
    "#  !pip install chromedriver_binary==87.0.4280.88 #install the version that corresponds to the version of your browser"
   ]
  },
  {
   "cell_type": "markdown",
   "id": "e97da711",
   "metadata": {},
   "source": [
    "### Setting up Selenium web Browser for Mozilla Firefox\n",
    "\n",
    "step 1 > goto :: https://github.com/mozilla/geckodriver/releases\n",
    "Step 2 > Install GeckoDriver as per ur os ( Mine is win 64.zip\n",
    "step 3 > Right click on Gecko extracted file > go into properties > Copy the location\n",
    "step 4 > "
   ]
  },
  {
   "cell_type": "code",
   "execution_count": 1,
   "id": "7e8decdf",
   "metadata": {},
   "outputs": [],
   "source": [
    "from selenium import webdriver\n",
    "from selenium.webdriver.firefox.firefox_binary import FirefoxBinary\n",
    "\n",
    "#driver = webdriver.Firefox(executable_path=r'E:\\Data Science Project\\Selinium Driver\\geckodriver.exe') # instance of web browser \n",
    "\n",
    "# driver.get('http://www.youtube.com') # Tells browser to goto specified website >> driver.get('http://Website URL)\n",
    "\n",
    "#path='E:\\Data Science Project\\Selinium Driver\\geckodriver.exe'\n",
    "\n",
    "#binary = FirefoxBinary('path/to/installed firefox binary')\n",
    "# browser = webdriver.Firefox(firefox_binary=binary)\n",
    "#browser = webdriver.Firefox()\n",
    "\n",
    "# import chromedriver_binary\n",
    "\n",
    "#for moicrosoft edge\n",
    "#>> from msedge.selenium_tools import Edge, EdgeOptions\n",
    "\n",
    "import csv"
   ]
  },
  {
   "cell_type": "code",
   "execution_count": 2,
   "id": "42dab36f",
   "metadata": {},
   "outputs": [],
   "source": [
    "url= 'https://www.amazon.in/'"
   ]
  },
  {
   "cell_type": "code",
   "execution_count": 3,
   "id": "1507f690",
   "metadata": {},
   "outputs": [],
   "source": [
    " # instance of web browser \n",
    "driver = webdriver.Firefox(executable_path=r'E:\\Data Science Project\\Selinium Driver\\geckodriver.exe')\n",
    "# Tells browser to goto specified website >> driver.get('http://Website URL)\n",
    "driver.get(url) "
   ]
  },
  {
   "cell_type": "markdown",
   "id": "1f604ea1",
   "metadata": {},
   "source": [
    "If we type any keyword in the Amazon.com search bar, we realise that the search term is embedded in the search url.Using ths pattern, we can create a generic function that will build the required url for our driver to to actually retrieve.\n",
    "\n",
    "#### We will define a function which we will later by just passing in our keyword to search on amazon.com as shown below"
   ]
  },
  {
   "cell_type": "code",
   "execution_count": 4,
   "id": "aba1205b",
   "metadata": {},
   "outputs": [],
   "source": [
    "def my_url(keyword):\n",
    "    \n",
    "#     temp = 'https://www.amazon.com/s?k=phone+case&ref=nb_sb_noss_1' #let's get rid of the 'phone+case' and replace it with {} to make the url generic.\n",
    "      temp = 'https://www.amazon.in/s?k={}&ref=nb_sb_noss_1' # a template url\n",
    "      keyword = keyword.replace(' ', '+')\n",
    "      return temp.format(keyword)"
   ]
  },
  {
   "cell_type": "code",
   "execution_count": 5,
   "id": "b1671769",
   "metadata": {},
   "outputs": [
    {
     "data": {
      "text/plain": [
       "'https://www.amazon.in/s?k=mobile&ref=nb_sb_noss_1'"
      ]
     },
     "execution_count": 5,
     "metadata": {},
     "output_type": "execute_result"
    }
   ],
   "source": [
    "#we can pass our keyword in the function to get the correct url of the keyword on amazon.com\n",
    "\n",
    "url=my_url('mobile') \n",
    "url"
   ]
  },
  {
   "cell_type": "code",
   "execution_count": 6,
   "id": "e12634ad",
   "metadata": {},
   "outputs": [
    {
     "data": {
      "text/plain": [
       "'https://www.amazon.in/s?k=samsung+mobile&ref=nb_sb_noss_1'"
      ]
     },
     "execution_count": 6,
     "metadata": {},
     "output_type": "execute_result"
    }
   ],
   "source": [
    "#we can even pass multiple keywords\n",
    "url1=my_url('samsung mobile')\n",
    "url1"
   ]
  },
  {
   "cell_type": "code",
   "execution_count": 7,
   "id": "c498a4ef",
   "metadata": {},
   "outputs": [],
   "source": [
    "#this will open in your browser and return the page for your keyword\n",
    "driver.get(url)"
   ]
  },
  {
   "cell_type": "markdown",
   "id": "043fb6bb",
   "metadata": {},
   "source": [
    "#### Beautifulsoup\n",
    "\n",
    "Now let's study the amazon.com a little bit.\n",
    "\n",
    "We can realise that the page is quite structured, although there are some few records that we need to deal with. What we want to do is to extract data from each record. There are also multiple pages (e.g 1-20 pages can be returned for a single keyword search).\n",
    "\n",
    "Just like we did earlier on, we need to access the html of the page in order to extract the required data. We will create a Beutiful Soup object for this."
   ]
  },
  {
   "cell_type": "code",
   "execution_count": 8,
   "id": "a890a2c8",
   "metadata": {},
   "outputs": [],
   "source": [
    "from bs4 import BeautifulSoup\n",
    "\n",
    "soup = BeautifulSoup(driver.page_source,'html.parser')"
   ]
  },
  {
   "cell_type": "markdown",
   "id": "8e602ae6",
   "metadata": {},
   "source": [
    "Just like we did earlier on, we can find a tag that contains the data we want. We can right-click on say a title on the search results page to inspect. We found that the div tag with the data-component-type=s-search-results contains the data we need.\n",
    "\n",
    "Something like what you can see below:"
   ]
  },
  {
   "cell_type": "code",
   "execution_count": 9,
   "id": "8693b038",
   "metadata": {},
   "outputs": [],
   "source": [
    "soup_results=soup.find_all('div',{'data-component-type':'s-search-result'})"
   ]
  },
  {
   "cell_type": "code",
   "execution_count": 10,
   "id": "e889a8e7",
   "metadata": {},
   "outputs": [
    {
     "data": {
      "text/plain": [
       "18"
      ]
     },
     "execution_count": 10,
     "metadata": {},
     "output_type": "execute_result"
    }
   ],
   "source": [
    "len(soup_results)"
   ]
  },
  {
   "cell_type": "markdown",
   "id": "2bdf0b8d",
   "metadata": {},
   "source": [
    "We will now create a template which we can based on to make a generic request to extract the data that we need."
   ]
  },
  {
   "cell_type": "code",
   "execution_count": 11,
   "id": "6b860085",
   "metadata": {},
   "outputs": [],
   "source": [
    "# we will assign our first result to an obj\n",
    "\n",
    "obj=soup_results[0]"
   ]
  },
  {
   "cell_type": "code",
   "execution_count": 12,
   "id": "46f9d5cb",
   "metadata": {},
   "outputs": [],
   "source": [
    "atag = obj.h2.a #create the h2 tag variable"
   ]
  },
  {
   "cell_type": "code",
   "execution_count": 13,
   "id": "b8519b9c",
   "metadata": {},
   "outputs": [],
   "source": [
    "des = atag.text.strip()"
   ]
  },
  {
   "cell_type": "code",
   "execution_count": 14,
   "id": "3f7e83d7",
   "metadata": {},
   "outputs": [
    {
     "data": {
      "text/plain": [
       "'Tecno Spark Go 2021 (Galaxy Blue 2GB RAM, 32GB Storage)|5000mAh| 6.52\" Display Smartphone'"
      ]
     },
     "execution_count": 14,
     "metadata": {},
     "output_type": "execute_result"
    }
   ],
   "source": [
    " #we can see below that we have the title correctly scraped\n",
    "des"
   ]
  },
  {
   "cell_type": "code",
   "execution_count": 15,
   "id": "c290ad09",
   "metadata": {},
   "outputs": [],
   "source": [
    "#let's now create a generic url\n",
    "\n",
    "url='https://www.amazon.in/'+atag.get('href')"
   ]
  },
  {
   "cell_type": "markdown",
   "id": "e2ef1b28",
   "metadata": {},
   "source": [
    "### Get the Price"
   ]
  },
  {
   "cell_type": "code",
   "execution_count": 16,
   "id": "8217882b",
   "metadata": {},
   "outputs": [
    {
     "data": {
      "text/plain": [
       "'₹7,299'"
      ]
     },
     "execution_count": 16,
     "metadata": {},
     "output_type": "execute_result"
    }
   ],
   "source": [
    "#let's get the price same way we searched for the title by looking for the div tag, in this case, we will look for the tag that contains the price of the item.\n",
    "\n",
    "#we will get this from the 'span' which contains the a-price and then use the 'span' which contains 'a-offscreen' to obtain the actual price.\n",
    "\n",
    "parent=obj.find('span','a-price')\n",
    "\n",
    "price=parent.find('span','a-offscreen').text\n",
    "\n",
    "price"
   ]
  },
  {
   "cell_type": "markdown",
   "id": "8d4d0e8a",
   "metadata": {},
   "source": [
    "### Get the Reviews"
   ]
  },
  {
   "cell_type": "code",
   "execution_count": 17,
   "id": "29c479b6",
   "metadata": {},
   "outputs": [
    {
     "data": {
      "text/plain": [
       "'4.3 out of 5 stars'"
      ]
     },
     "execution_count": 17,
     "metadata": {},
     "output_type": "execute_result"
    }
   ],
   "source": [
    "#We will do the same thing for the Reviews\n",
    "\n",
    "\n",
    "rate=obj.find('span','a-icon-alt').text\n",
    "rate"
   ]
  },
  {
   "cell_type": "code",
   "execution_count": 18,
   "id": "f2f46baa",
   "metadata": {},
   "outputs": [
    {
     "data": {
      "text/plain": [
       "'4.3 out of 5 stars'"
      ]
     },
     "execution_count": 18,
     "metadata": {},
     "output_type": "execute_result"
    }
   ],
   "source": [
    "# alternatively\n",
    "obj.i.text"
   ]
  },
  {
   "cell_type": "markdown",
   "id": "19f8a6dc",
   "metadata": {},
   "source": [
    "### Get the review Counts"
   ]
  },
  {
   "cell_type": "code",
   "execution_count": 31,
   "id": "3e1a16cc",
   "metadata": {},
   "outputs": [
    {
     "ename": "AttributeError",
     "evalue": "'NoneType' object has no attribute 'text'",
     "output_type": "error",
     "traceback": [
      "\u001b[1;31m---------------------------------------------------------------------------\u001b[0m",
      "\u001b[1;31mAttributeError\u001b[0m                            Traceback (most recent call last)",
      "\u001b[1;32m<ipython-input-31-7e6ffd01226b>\u001b[0m in \u001b[0;36m<module>\u001b[1;34m\u001b[0m\n\u001b[0;32m      1\u001b[0m \u001b[1;31m#we can get the number of customers who have reviewed the item as well\u001b[0m\u001b[1;33m\u001b[0m\u001b[1;33m\u001b[0m\u001b[1;33m\u001b[0m\u001b[0m\n\u001b[0;32m      2\u001b[0m \u001b[1;33m\u001b[0m\u001b[0m\n\u001b[1;32m----> 3\u001b[1;33m \u001b[0mcounts_review\u001b[0m\u001b[1;33m=\u001b[0m\u001b[0mobj\u001b[0m\u001b[1;33m.\u001b[0m\u001b[0mfind\u001b[0m\u001b[1;33m(\u001b[0m\u001b[1;34m'span'\u001b[0m\u001b[1;33m,\u001b[0m\u001b[1;33m{\u001b[0m\u001b[1;34m'class'\u001b[0m\u001b[1;33m:\u001b[0m\u001b[1;34m'a-size-base'\u001b[0m\u001b[1;33m,\u001b[0m\u001b[1;34m'dir'\u001b[0m\u001b[1;33m:\u001b[0m\u001b[1;34m'auto'\u001b[0m\u001b[1;33m}\u001b[0m\u001b[1;33m)\u001b[0m\u001b[1;33m.\u001b[0m\u001b[0mtext\u001b[0m\u001b[1;33m\u001b[0m\u001b[1;33m\u001b[0m\u001b[0m\n\u001b[0m\u001b[0;32m      4\u001b[0m \u001b[0mcounts_review\u001b[0m\u001b[1;33m\u001b[0m\u001b[1;33m\u001b[0m\u001b[0m\n",
      "\u001b[1;31mAttributeError\u001b[0m: 'NoneType' object has no attribute 'text'"
     ]
    }
   ],
   "source": [
    "#we can get the number of customers who have reviewed the item as well\n",
    "\n",
    "counts_review=obj.find('span',{'class':'a-size-base','dir':'auto'}).text\n",
    "counts_review"
   ]
  },
  {
   "cell_type": "code",
   "execution_count": 20,
   "id": "827215dc",
   "metadata": {},
   "outputs": [
    {
     "data": {
      "text/plain": [
       "<img alt='Sponsored Ad - Tecno Spark Go 2021 (Galaxy Blue 2GB RAM, 32GB Storage)|5000mAh| 6.52\" Display Smartphone' class=\"s-image\" data-image-index=\"1\" data-image-latency=\"s-product-image\" data-image-load=\"\" data-image-source-density=\"1\" src=\"https://m.media-amazon.com/images/I/71tFDYqv1zL._AC_UY218_.jpg\" srcset=\"https://m.media-amazon.com/images/I/71tFDYqv1zL._AC_UY218_.jpg 1x, https://m.media-amazon.com/images/I/71tFDYqv1zL._AC_UY327_QL65_.jpg 1.5x, https://m.media-amazon.com/images/I/71tFDYqv1zL._AC_UY436_QL65_.jpg 2x, https://m.media-amazon.com/images/I/71tFDYqv1zL._AC_UY545_QL65_.jpg 2.5x, https://m.media-amazon.com/images/I/71tFDYqv1zL._AC_UY654_QL65_.jpg 3x\"/>"
      ]
     },
     "execution_count": 20,
     "metadata": {},
     "output_type": "execute_result"
    }
   ],
   "source": [
    "obj.img"
   ]
  },
  {
   "cell_type": "markdown",
   "id": "f59c2f55",
   "metadata": {},
   "source": [
    "## Generic Fuction\n",
    "We will now create a generic fuction for the sub codes to extract all the data at once."
   ]
  },
  {
   "cell_type": "code",
   "execution_count": 34,
   "id": "5543bfba",
   "metadata": {},
   "outputs": [],
   "source": [
    "from selenium import webdriver\n",
    "import chromedriver_binary\n",
    "from bs4 import BeautifulSoup\n",
    "#for moicrosoft edge\n",
    "from msedge.selenium_tools import Edge, EdgeOptions\n",
    "import csv\n",
    "\n",
    "#We will be using functions to achieve this\n",
    "\n",
    "def my_url(keyword):\n",
    "    temp = 'https://www.amazon.in/s?k={}&ref=nb_sb_noss_1'\n",
    "    keyword = keyword.replace(' ', '+')\n",
    "    \n",
    "    # Add Term Query To URL\n",
    "    url = temp.format(keyword)\n",
    "    \n",
    "    # Add Page Query Placeholder\n",
    "    url += '&page{}'\n",
    "    \n",
    "    return url\n",
    "\n",
    "def extract_record(obj):\n",
    "    atag = obj.h2.a\n",
    "    description = atag.text.strip()\n",
    "    url = 'https://www.amazon.in' + atag.get('href')\n",
    "    \n",
    "    #it is possible that some items on amazom.com might not be having one of the items we are looking for(e.g. some items might not be having ratings or price), we will be getting error if we dont take care of that. We will therefore add some error handlers\n",
    "    #if there are no price,probably the item is out of stock or not available, then we will ignore the item, but if there are no reviews yet, it's fine, we will still want to extract the item.\n",
    "    try:\n",
    "        parent=obj.find('span','a-price')\n",
    "        price=parent.find('span','a-offscreen').text\n",
    "    except AttributeError: #we are excepting the error if it occurs so that we can move to extract the next item, else the program will stop running and gives error\n",
    "        return\n",
    "    \n",
    "    try:\n",
    "        rate=obj.find('span','a-icon-alt').text\n",
    "        counts_review = obj.find('span', {'class': 'a-size-base', 'dir': 'auto'}).text\n",
    "    except AttributeError:\n",
    "        #assigning empty string to ratings and \n",
    "        rate = ''\n",
    "        counts_review = ''\n",
    "    \n",
    "    image = obj.find('img', {'class': 's-image'}).get('src') \n",
    "    \n",
    "    #let's create a tuple that will contain all these items and assign it to a result variable\n",
    "    result = (description, price, rate, counts_review, url,image)\n",
    "    return result\n",
    "\n",
    "'''Run Main Program Routine'''\n",
    "def main(keyword):\n",
    "    # Startup The Webdriver\n",
    "    driver = webdriver.Chrome()\n",
    "#     options = EdgeOptions()\n",
    "#     options.use_chromium =True\n",
    "#     driver = Edge(options=options)\n",
    "    \n",
    "    records = []  #an empty records list to contain all of our extracted records\n",
    "    url =my_url(keyword)\n",
    "    \n",
    "    for page in range(1, 50):\n",
    "        driver.get(url.format(page))\n",
    "        soup =BeautifulSoup(driver.page_source, 'html.parser')\n",
    "        results=soup.find_all('div',{'data-component-type':'s-search-result'})\n",
    "#         results=soup.find_all('div',{'data-component-type': 's-search-result'}) #same as we did above\n",
    "\n",
    "        \n",
    "#we will like to check if what we have return from the extract_record function is empty or not\n",
    "        for item in results:\n",
    "            record = extract_record(item) \n",
    "            if record: #if the record has something in it append to records list\n",
    "                records.append(record) \n",
    "                \n",
    "#         driver.quit()\n",
    "    \n",
    "#     # Save Results To CSV File\n",
    "        with open('Results.csv', 'w', newline='', encoding='utf-8') as f:\n",
    "            writer = csv.writer(f)\n",
    "            writer.writerow(['Description', 'Price', 'Rating', 'Reviews Count', 'URL','Image link'])\n",
    "            writer.writerows(records)\n"
   ]
  },
  {
   "cell_type": "code",
   "execution_count": 35,
   "id": "61454b78",
   "metadata": {},
   "outputs": [],
   "source": [
    "#we can search for any item to extract data\n",
    "main('mobile')"
   ]
  },
  {
   "cell_type": "markdown",
   "id": "ed747a01",
   "metadata": {},
   "source": [
    "You can scrape as many data points as possible with any keyword, oh yes !!\n",
    "\n",
    "You can load the dataset you have scraped and perform and use it for your project"
   ]
  },
  {
   "cell_type": "code",
   "execution_count": 23,
   "id": "fa0c3f53",
   "metadata": {},
   "outputs": [],
   "source": [
    "import pandas as pd"
   ]
  },
  {
   "cell_type": "code",
   "execution_count": 36,
   "id": "10bf01bb",
   "metadata": {},
   "outputs": [
    {
     "data": {
      "text/html": [
       "<div>\n",
       "<style scoped>\n",
       "    .dataframe tbody tr th:only-of-type {\n",
       "        vertical-align: middle;\n",
       "    }\n",
       "\n",
       "    .dataframe tbody tr th {\n",
       "        vertical-align: top;\n",
       "    }\n",
       "\n",
       "    .dataframe thead th {\n",
       "        text-align: right;\n",
       "    }\n",
       "</style>\n",
       "<table border=\"1\" class=\"dataframe\">\n",
       "  <thead>\n",
       "    <tr style=\"text-align: right;\">\n",
       "      <th></th>\n",
       "      <th>Description</th>\n",
       "      <th>Price</th>\n",
       "      <th>Rating</th>\n",
       "      <th>Reviews Count</th>\n",
       "      <th>URL</th>\n",
       "      <th>Image link</th>\n",
       "    </tr>\n",
       "  </thead>\n",
       "  <tbody>\n",
       "    <tr>\n",
       "      <th>0</th>\n",
       "      <td>Tecno Spark Go 2021 (Galaxy Blue 2GB RAM, 32GB...</td>\n",
       "      <td>₹7,299</td>\n",
       "      <td>NaN</td>\n",
       "      <td>NaN</td>\n",
       "      <td>https://www.amazon.in/gp/slredirect/picassoRed...</td>\n",
       "      <td>https://m.media-amazon.com/images/I/71tFDYqv1z...</td>\n",
       "    </tr>\n",
       "    <tr>\n",
       "      <th>1</th>\n",
       "      <td>Redmi 9A (Nature Green, 2GB RAM, 32GB Storage)...</td>\n",
       "      <td>₹6,999</td>\n",
       "      <td>NaN</td>\n",
       "      <td>NaN</td>\n",
       "      <td>https://www.amazon.in/Redmi-9A-2GB-32GB-Storag...</td>\n",
       "      <td>https://m.media-amazon.com/images/I/71sxlhYhKW...</td>\n",
       "    </tr>\n",
       "    <tr>\n",
       "      <th>2</th>\n",
       "      <td>Redmi 9 (Sky Blue, 4GB RAM, 64GB Storage) | 2....</td>\n",
       "      <td>₹9,499</td>\n",
       "      <td>NaN</td>\n",
       "      <td>NaN</td>\n",
       "      <td>https://www.amazon.in/Redmi-Sky-Blue-64GB-Stor...</td>\n",
       "      <td>https://m.media-amazon.com/images/I/71A9Vo1Bat...</td>\n",
       "    </tr>\n",
       "    <tr>\n",
       "      <th>3</th>\n",
       "      <td>Redmi 9 Power (Mighty Black 4GB RAM 64GB Stora...</td>\n",
       "      <td>₹11,499</td>\n",
       "      <td>NaN</td>\n",
       "      <td>NaN</td>\n",
       "      <td>https://www.amazon.in/Test-Exclusive_2020_1112...</td>\n",
       "      <td>https://m.media-amazon.com/images/I/71hEzQGO5q...</td>\n",
       "    </tr>\n",
       "    <tr>\n",
       "      <th>4</th>\n",
       "      <td>OPPO A31 (Fantasy White, 6GB RAM, 128GB Storag...</td>\n",
       "      <td>₹12,490</td>\n",
       "      <td>NaN</td>\n",
       "      <td>NaN</td>\n",
       "      <td>https://www.amazon.in/Oppo-Fantasy-Storage-Add...</td>\n",
       "      <td>https://m.media-amazon.com/images/I/61CnyJ-IbM...</td>\n",
       "    </tr>\n",
       "    <tr>\n",
       "      <th>...</th>\n",
       "      <td>...</td>\n",
       "      <td>...</td>\n",
       "      <td>...</td>\n",
       "      <td>...</td>\n",
       "      <td>...</td>\n",
       "      <td>...</td>\n",
       "    </tr>\n",
       "    <tr>\n",
       "      <th>871</th>\n",
       "      <td>Redmi 9A (Midnight Black, 2GB RAM, 32GB Storag...</td>\n",
       "      <td>₹6,999</td>\n",
       "      <td>NaN</td>\n",
       "      <td>NaN</td>\n",
       "      <td>https://www.amazon.in/Redmi-9A-Midnight-2GB-32...</td>\n",
       "      <td>https://m.media-amazon.com/images/I/71sxlhYhKW...</td>\n",
       "    </tr>\n",
       "    <tr>\n",
       "      <th>872</th>\n",
       "      <td>Samsung Galaxy M31 (Ocean Blue, 8GB RAM, 128GB...</td>\n",
       "      <td>₹16,999</td>\n",
       "      <td>NaN</td>\n",
       "      <td>NaN</td>\n",
       "      <td>https://www.amazon.in/Samsung-Galaxy-Ocean-128...</td>\n",
       "      <td>https://m.media-amazon.com/images/I/71-Su4Wr0H...</td>\n",
       "    </tr>\n",
       "    <tr>\n",
       "      <th>873</th>\n",
       "      <td>Redmi 9A (Sea Blue 2GB RAM 32GB Storage) | 2GH...</td>\n",
       "      <td>₹6,999</td>\n",
       "      <td>NaN</td>\n",
       "      <td>NaN</td>\n",
       "      <td>https://www.amazon.in/Redmi-9A-2GB-32GB-Storag...</td>\n",
       "      <td>https://m.media-amazon.com/images/I/71sxlhYhKW...</td>\n",
       "    </tr>\n",
       "    <tr>\n",
       "      <th>874</th>\n",
       "      <td>Tecno Spark 7T(Jewel Blue, 4GB RAM, 64GB Stora...</td>\n",
       "      <td>₹9,499</td>\n",
       "      <td>NaN</td>\n",
       "      <td>NaN</td>\n",
       "      <td>https://www.amazon.in/Tecno-Spark-Storage-Batt...</td>\n",
       "      <td>https://m.media-amazon.com/images/I/81aWyRY67S...</td>\n",
       "    </tr>\n",
       "    <tr>\n",
       "      <th>875</th>\n",
       "      <td>Tecno Spark 7 Pro (Alps Blue, 6GB RAM 64GB Sto...</td>\n",
       "      <td>₹12,499</td>\n",
       "      <td>NaN</td>\n",
       "      <td>NaN</td>\n",
       "      <td>https://www.amazon.in/gp/slredirect/picassoRed...</td>\n",
       "      <td>https://m.media-amazon.com/images/I/81ud0+8vAJ...</td>\n",
       "    </tr>\n",
       "  </tbody>\n",
       "</table>\n",
       "<p>876 rows × 6 columns</p>\n",
       "</div>"
      ],
      "text/plain": [
       "                                           Description    Price  Rating  \\\n",
       "0    Tecno Spark Go 2021 (Galaxy Blue 2GB RAM, 32GB...   ₹7,299     NaN   \n",
       "1    Redmi 9A (Nature Green, 2GB RAM, 32GB Storage)...   ₹6,999     NaN   \n",
       "2    Redmi 9 (Sky Blue, 4GB RAM, 64GB Storage) | 2....   ₹9,499     NaN   \n",
       "3    Redmi 9 Power (Mighty Black 4GB RAM 64GB Stora...  ₹11,499     NaN   \n",
       "4    OPPO A31 (Fantasy White, 6GB RAM, 128GB Storag...  ₹12,490     NaN   \n",
       "..                                                 ...      ...     ...   \n",
       "871  Redmi 9A (Midnight Black, 2GB RAM, 32GB Storag...   ₹6,999     NaN   \n",
       "872  Samsung Galaxy M31 (Ocean Blue, 8GB RAM, 128GB...  ₹16,999     NaN   \n",
       "873  Redmi 9A (Sea Blue 2GB RAM 32GB Storage) | 2GH...   ₹6,999     NaN   \n",
       "874  Tecno Spark 7T(Jewel Blue, 4GB RAM, 64GB Stora...   ₹9,499     NaN   \n",
       "875  Tecno Spark 7 Pro (Alps Blue, 6GB RAM 64GB Sto...  ₹12,499     NaN   \n",
       "\n",
       "     Reviews Count                                                URL  \\\n",
       "0              NaN  https://www.amazon.in/gp/slredirect/picassoRed...   \n",
       "1              NaN  https://www.amazon.in/Redmi-9A-2GB-32GB-Storag...   \n",
       "2              NaN  https://www.amazon.in/Redmi-Sky-Blue-64GB-Stor...   \n",
       "3              NaN  https://www.amazon.in/Test-Exclusive_2020_1112...   \n",
       "4              NaN  https://www.amazon.in/Oppo-Fantasy-Storage-Add...   \n",
       "..             ...                                                ...   \n",
       "871            NaN  https://www.amazon.in/Redmi-9A-Midnight-2GB-32...   \n",
       "872            NaN  https://www.amazon.in/Samsung-Galaxy-Ocean-128...   \n",
       "873            NaN  https://www.amazon.in/Redmi-9A-2GB-32GB-Storag...   \n",
       "874            NaN  https://www.amazon.in/Tecno-Spark-Storage-Batt...   \n",
       "875            NaN  https://www.amazon.in/gp/slredirect/picassoRed...   \n",
       "\n",
       "                                            Image link  \n",
       "0    https://m.media-amazon.com/images/I/71tFDYqv1z...  \n",
       "1    https://m.media-amazon.com/images/I/71sxlhYhKW...  \n",
       "2    https://m.media-amazon.com/images/I/71A9Vo1Bat...  \n",
       "3    https://m.media-amazon.com/images/I/71hEzQGO5q...  \n",
       "4    https://m.media-amazon.com/images/I/61CnyJ-IbM...  \n",
       "..                                                 ...  \n",
       "871  https://m.media-amazon.com/images/I/71sxlhYhKW...  \n",
       "872  https://m.media-amazon.com/images/I/71-Su4Wr0H...  \n",
       "873  https://m.media-amazon.com/images/I/71sxlhYhKW...  \n",
       "874  https://m.media-amazon.com/images/I/81aWyRY67S...  \n",
       "875  https://m.media-amazon.com/images/I/81ud0+8vAJ...  \n",
       "\n",
       "[876 rows x 6 columns]"
      ]
     },
     "execution_count": 36,
     "metadata": {},
     "output_type": "execute_result"
    }
   ],
   "source": [
    "df=pd.read_csv(r\"E:\\Data Science Project\\Untitled Folder\\Results.csv\")\n",
    "df"
   ]
  },
  {
   "cell_type": "code",
   "execution_count": 37,
   "id": "9102e09a",
   "metadata": {},
   "outputs": [
    {
     "data": {
      "text/html": [
       "<div>\n",
       "<style scoped>\n",
       "    .dataframe tbody tr th:only-of-type {\n",
       "        vertical-align: middle;\n",
       "    }\n",
       "\n",
       "    .dataframe tbody tr th {\n",
       "        vertical-align: top;\n",
       "    }\n",
       "\n",
       "    .dataframe thead th {\n",
       "        text-align: right;\n",
       "    }\n",
       "</style>\n",
       "<table border=\"1\" class=\"dataframe\">\n",
       "  <thead>\n",
       "    <tr style=\"text-align: right;\">\n",
       "      <th></th>\n",
       "      <th>Rating</th>\n",
       "      <th>Reviews Count</th>\n",
       "    </tr>\n",
       "  </thead>\n",
       "  <tbody>\n",
       "    <tr>\n",
       "      <th>count</th>\n",
       "      <td>0.0</td>\n",
       "      <td>0.0</td>\n",
       "    </tr>\n",
       "    <tr>\n",
       "      <th>mean</th>\n",
       "      <td>NaN</td>\n",
       "      <td>NaN</td>\n",
       "    </tr>\n",
       "    <tr>\n",
       "      <th>std</th>\n",
       "      <td>NaN</td>\n",
       "      <td>NaN</td>\n",
       "    </tr>\n",
       "    <tr>\n",
       "      <th>min</th>\n",
       "      <td>NaN</td>\n",
       "      <td>NaN</td>\n",
       "    </tr>\n",
       "    <tr>\n",
       "      <th>25%</th>\n",
       "      <td>NaN</td>\n",
       "      <td>NaN</td>\n",
       "    </tr>\n",
       "    <tr>\n",
       "      <th>50%</th>\n",
       "      <td>NaN</td>\n",
       "      <td>NaN</td>\n",
       "    </tr>\n",
       "    <tr>\n",
       "      <th>75%</th>\n",
       "      <td>NaN</td>\n",
       "      <td>NaN</td>\n",
       "    </tr>\n",
       "    <tr>\n",
       "      <th>max</th>\n",
       "      <td>NaN</td>\n",
       "      <td>NaN</td>\n",
       "    </tr>\n",
       "  </tbody>\n",
       "</table>\n",
       "</div>"
      ],
      "text/plain": [
       "       Rating  Reviews Count\n",
       "count     0.0            0.0\n",
       "mean      NaN            NaN\n",
       "std       NaN            NaN\n",
       "min       NaN            NaN\n",
       "25%       NaN            NaN\n",
       "50%       NaN            NaN\n",
       "75%       NaN            NaN\n",
       "max       NaN            NaN"
      ]
     },
     "execution_count": 37,
     "metadata": {},
     "output_type": "execute_result"
    }
   ],
   "source": [
    "df.describe()"
   ]
  },
  {
   "cell_type": "code",
   "execution_count": 38,
   "id": "25a29929",
   "metadata": {},
   "outputs": [
    {
     "data": {
      "text/plain": [
       "Description        0\n",
       "Price              0\n",
       "Rating           876\n",
       "Reviews Count    876\n",
       "URL                0\n",
       "Image link         0\n",
       "dtype: int64"
      ]
     },
     "execution_count": 38,
     "metadata": {},
     "output_type": "execute_result"
    }
   ],
   "source": [
    "df.isnull().sum()"
   ]
  },
  {
   "cell_type": "markdown",
   "id": "ff30dd5d",
   "metadata": {},
   "source": [
    "There Was an Error\n",
    "> Solution: The problem is with the string \"C:\\Users\\Eric\\Desktop\\beeline.txt\"\n",
    "Here, \\U in \"C:\\Users... starts an eight-character Unicode escape, such as \\U00014321. In your code, the escape is followed by the character 's', which is invalid.  \n",
    "You either need to duplicate all backslashes:  \n",
    "\"C:\\\\Users\\\\Eric\\\\Desktop\\\\beeline.txt\"  \n",
    "Or prefix the string with r (to produce a raw string):  \n",
    "r\"C:\\Users\\Eric\\Desktop\\beeline.txt\"  \n",
    "\n"
   ]
  },
  {
   "cell_type": "code",
   "execution_count": null,
   "id": "991ba3dc",
   "metadata": {},
   "outputs": [],
   "source": []
  },
  {
   "cell_type": "code",
   "execution_count": null,
   "id": "257550e2",
   "metadata": {},
   "outputs": [],
   "source": []
  }
 ],
 "metadata": {
  "kernelspec": {
   "display_name": "Python 3",
   "language": "python",
   "name": "python3"
  },
  "language_info": {
   "codemirror_mode": {
    "name": "ipython",
    "version": 3
   },
   "file_extension": ".py",
   "mimetype": "text/x-python",
   "name": "python",
   "nbconvert_exporter": "python",
   "pygments_lexer": "ipython3",
   "version": "3.9.6"
  }
 },
 "nbformat": 4,
 "nbformat_minor": 5
}
